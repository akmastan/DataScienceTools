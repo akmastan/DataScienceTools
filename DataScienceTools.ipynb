{
 "cells": [
  {
   "cell_type": "markdown",
   "id": "45cb45ab-3e63-4885-aab7-84045ac5ffc5",
   "metadata": {},
   "source": [
    "# Data Science Tools And Ecosystem"
   ]
  },
  {
   "cell_type": "markdown",
   "id": "84dfbb07-e162-4944-84c9-1c1cf452f17c",
   "metadata": {},
   "source": [
    "In this notebook, Data Science Tools and Ecosystem is summarized"
   ]
  },
  {
   "cell_type": "markdown",
   "id": "1906d0ca-ca6f-4130-a26a-52fb72a1f6de",
   "metadata": {},
   "source": [
    "List of Data Science Languages\n",
    "1. Python\n",
    "2. R\n",
    "3. SQL\n",
    "4. Java, etc"
   ]
  },
  {
   "cell_type": "markdown",
   "id": "cb407c4c-1ac9-4d70-98b2-65a6fb052a97",
   "metadata": {},
   "source": [
    "Data Scientists use some of the common libraries listed below\n",
    "1. Numpy\n",
    "2. Pandas\n",
    "3. TensorFlow\n",
    "4. Keras\n",
    "5. Scipy\n",
    "6. Matplotlib\n",
    "7. Scikit-Learn"
   ]
  },
  {
   "cell_type": "markdown",
   "id": "4fa4f667-7c66-4692-b330-f7a820d6142f",
   "metadata": {},
   "source": [
    "|Data Science Tools|\n",
    "|---|\n",
    "|SAS|\n",
    "|Apache Hadoop|\n",
    "|TensorFlow|"
   ]
  },
  {
   "cell_type": "markdown",
   "id": "2359f771-80b8-4495-b766-dcf983c85d2e",
   "metadata": {},
   "source": [
    "### Below are few examples of arithmetic expressions"
   ]
  },
  {
   "cell_type": "code",
   "execution_count": 1,
   "id": "4cdfa80b-88fd-4057-a012-a424238ff808",
   "metadata": {},
   "outputs": [
    {
     "data": {
      "text/plain": [
       "21"
      ]
     },
     "execution_count": 1,
     "metadata": {},
     "output_type": "execute_result"
    }
   ],
   "source": [
    "# common arithmetic example to add and mutiply integers\n",
    "3*(2+5)"
   ]
  },
  {
   "cell_type": "code",
   "execution_count": 2,
   "id": "bbe7362e-cc2b-4290-8391-f2dc9c20d056",
   "metadata": {},
   "outputs": [
    {
     "data": {
      "text/plain": [
       "1.6666666666666667"
      ]
     },
     "execution_count": 2,
     "metadata": {},
     "output_type": "execute_result"
    }
   ],
   "source": [
    "# this will convert 100 minutes to hours by dividing with 60\n",
    "100/60"
   ]
  },
  {
   "cell_type": "markdown",
   "id": "715dc9e6-ffe4-479f-bce4-8282c31cd59f",
   "metadata": {},
   "source": [
    "_Objective_\n",
    "* list popular languages of data sciece\n",
    "* list popular libraries of data science\n",
    "* list well known tools of data science\n",
    "* how to provide comments"
   ]
  },
  {
   "cell_type": "markdown",
   "id": "8629d71e-f50e-4bdb-96fb-548e0c71f4c5",
   "metadata": {},
   "source": [
    "## Author\n",
    "Abdul Kaiyum"
   ]
  },
  {
   "cell_type": "code",
   "execution_count": null,
   "id": "ffa22082-9560-42f3-ac8c-902bc4027663",
   "metadata": {},
   "outputs": [],
   "source": []
  }
 ],
 "metadata": {
  "kernelspec": {
   "display_name": "Python 3 (ipykernel)",
   "language": "python",
   "name": "python3"
  },
  "language_info": {
   "codemirror_mode": {
    "name": "ipython",
    "version": 3
   },
   "file_extension": ".py",
   "mimetype": "text/x-python",
   "name": "python",
   "nbconvert_exporter": "python",
   "pygments_lexer": "ipython3",
   "version": "3.11.7"
  }
 },
 "nbformat": 4,
 "nbformat_minor": 5
}
